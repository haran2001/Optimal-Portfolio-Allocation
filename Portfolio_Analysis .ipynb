{
  "nbformat": 4,
  "nbformat_minor": 0,
  "metadata": {
    "colab": {
      "name": "Portfolio Analysis.ipynb",
      "provenance": [],
      "collapsed_sections": []
    },
    "kernelspec": {
      "name": "python3",
      "display_name": "Python 3"
    }
  },
  "cells": [
    {
      "cell_type": "code",
      "metadata": {
        "id": "_xSWgCJReIpT",
        "colab": {
          "base_uri": "https://localhost:8080/"
        },
        "outputId": "1a736ee2-4a3e-4a69-98e9-dcab367c5ac9"
      },
      "source": [
        "!pip install PyPortfolioOpt"
      ],
      "execution_count": null,
      "outputs": [
        {
          "output_type": "stream",
          "text": [
            "Collecting PyPortfolioOpt\n",
            "\u001b[?25l  Downloading https://files.pythonhosted.org/packages/46/55/7d39d78d554ee33a7317e345caf01339da11406c28f18bc48794fe967935/PyPortfolioOpt-1.4.1-py3-none-any.whl (56kB)\n",
            "\u001b[K     |████████████████████████████████| 61kB 3.9MB/s \n",
            "\u001b[?25hRequirement already satisfied: numpy<2.0,>=1.12 in /usr/local/lib/python3.7/dist-packages (from PyPortfolioOpt) (1.19.5)\n",
            "Requirement already satisfied: scipy<2.0,>=1.3 in /usr/local/lib/python3.7/dist-packages (from PyPortfolioOpt) (1.4.1)\n",
            "Collecting cvxpy<2.0.0,>=1.1.10\n",
            "\u001b[?25l  Downloading https://files.pythonhosted.org/packages/b5/7e/ec053f8a89f0c380379f9af2066e55fa77adfd5ef7fa63923097b0e2896b/cvxpy-1.1.11.tar.gz (1.3MB)\n",
            "\u001b[K     |████████████████████████████████| 1.3MB 12.8MB/s \n",
            "\u001b[?25h  Installing build dependencies ... \u001b[?25l\u001b[?25hdone\n",
            "  Getting requirements to build wheel ... \u001b[?25l\u001b[?25hdone\n",
            "    Preparing wheel metadata ... \u001b[?25l\u001b[?25hdone\n",
            "Requirement already satisfied: pandas>=0.19 in /usr/local/lib/python3.7/dist-packages (from PyPortfolioOpt) (1.1.5)\n",
            "Requirement already satisfied: scs>=1.1.6 in /usr/local/lib/python3.7/dist-packages (from cvxpy<2.0.0,>=1.1.10->PyPortfolioOpt) (2.1.2)\n",
            "Requirement already satisfied: osqp>=0.4.1 in /usr/local/lib/python3.7/dist-packages (from cvxpy<2.0.0,>=1.1.10->PyPortfolioOpt) (0.6.2.post0)\n",
            "Requirement already satisfied: ecos>=2 in /usr/local/lib/python3.7/dist-packages (from cvxpy<2.0.0,>=1.1.10->PyPortfolioOpt) (2.0.7.post1)\n",
            "Requirement already satisfied: pytz>=2017.2 in /usr/local/lib/python3.7/dist-packages (from pandas>=0.19->PyPortfolioOpt) (2018.9)\n",
            "Requirement already satisfied: python-dateutil>=2.7.3 in /usr/local/lib/python3.7/dist-packages (from pandas>=0.19->PyPortfolioOpt) (2.8.1)\n",
            "Requirement already satisfied: qdldl in /usr/local/lib/python3.7/dist-packages (from osqp>=0.4.1->cvxpy<2.0.0,>=1.1.10->PyPortfolioOpt) (0.1.5.post0)\n",
            "Requirement already satisfied: six>=1.5 in /usr/local/lib/python3.7/dist-packages (from python-dateutil>=2.7.3->pandas>=0.19->PyPortfolioOpt) (1.15.0)\n",
            "Building wheels for collected packages: cvxpy\n",
            "  Building wheel for cvxpy (PEP 517) ... \u001b[?25l\u001b[?25hdone\n",
            "  Created wheel for cvxpy: filename=cvxpy-1.1.11-cp37-cp37m-linux_x86_64.whl size=2725456 sha256=bccf2d0333bbd86361a3f71fe341c152f87f6b01d5df3dd8fe5e4c74b45ac1a2\n",
            "  Stored in directory: /root/.cache/pip/wheels/df/d4/eb/c74e09a39bc4ac09b3a8d2a48c1c6009f391056d8c87bf68aa\n",
            "Successfully built cvxpy\n",
            "Installing collected packages: cvxpy, PyPortfolioOpt\n",
            "  Found existing installation: cvxpy 1.0.31\n",
            "    Uninstalling cvxpy-1.0.31:\n",
            "      Successfully uninstalled cvxpy-1.0.31\n",
            "Successfully installed PyPortfolioOpt-1.4.1 cvxpy-1.1.11\n"
          ],
          "name": "stdout"
        }
      ]
    },
    {
      "cell_type": "code",
      "metadata": {
        "id": "xBDyJfXNejSn"
      },
      "source": [
        "##imports\n",
        "import pandas as pd\n",
        "import matplotlib.pyplot as plt\n",
        "import numpy as np\n",
        "import pandas_datareader as web\n",
        "from matplotlib.ticker import FuncFormatter\n",
        "from pypfopt.efficient_frontier import EfficientFrontier\n",
        "from pypfopt import risk_models\n",
        "from pypfopt import expected_returns\n",
        "from pypfopt.cla import CLA\n",
        "from pypfopt import plotting\n",
        "from matplotlib.ticker import FuncFormatter\n",
        "from pypfopt import discrete_allocation\n",
        "from scipy.stats import norm"
      ],
      "execution_count": null,
      "outputs": []
    },
    {
      "cell_type": "code",
      "metadata": {
        "colab": {
          "base_uri": "https://localhost:8080/",
          "height": 225
        },
        "id": "LMWd5sBYe4Be",
        "outputId": "0ee8f057-6fc8-4dff-9440-53e3713e4e48"
      },
      "source": [
        " ##Scraping data for Adj close price\n",
        "tickers = ['INDIGO.NS', 'JETAIRWAYS.NS', 'ICICIBANK.NS', 'SBIN.NS', 'TATACHEM.NS', 'TATACOMM.NS']\n",
        "thelen = len(tickers)\n",
        "price_data = []\n",
        "\n",
        "#Getting the open/close prices\n",
        "for ticker in range(thelen):\n",
        "  prices = web.DataReader(tickers[ticker], start='2019-01-01', end='2019-12-31', data_source='yahoo')\n",
        "  price_data.append(prices.assign(ticker=ticker)[['Adj Close']])\n",
        "df_stocks = pd.concat(price_data, axis=1)\n",
        "df_stocks.columns=tickers\n",
        "df_stocks.head()\n"
      ],
      "execution_count": null,
      "outputs": [
        {
          "output_type": "execute_result",
          "data": {
            "text/html": [
              "<div>\n",
              "<style scoped>\n",
              "    .dataframe tbody tr th:only-of-type {\n",
              "        vertical-align: middle;\n",
              "    }\n",
              "\n",
              "    .dataframe tbody tr th {\n",
              "        vertical-align: top;\n",
              "    }\n",
              "\n",
              "    .dataframe thead th {\n",
              "        text-align: right;\n",
              "    }\n",
              "</style>\n",
              "<table border=\"1\" class=\"dataframe\">\n",
              "  <thead>\n",
              "    <tr style=\"text-align: right;\">\n",
              "      <th></th>\n",
              "      <th>INDIGO.NS</th>\n",
              "      <th>JETAIRWAYS.NS</th>\n",
              "      <th>ICICIBANK.NS</th>\n",
              "      <th>SBIN.NS</th>\n",
              "      <th>TATACHEM.NS</th>\n",
              "      <th>TATACOMM.NS</th>\n",
              "    </tr>\n",
              "    <tr>\n",
              "      <th>Date</th>\n",
              "      <th></th>\n",
              "      <th></th>\n",
              "      <th></th>\n",
              "      <th></th>\n",
              "      <th></th>\n",
              "      <th></th>\n",
              "    </tr>\n",
              "  </thead>\n",
              "  <tbody>\n",
              "    <tr>\n",
              "      <th>2019-01-01</th>\n",
              "      <td>1161.959595</td>\n",
              "      <td>280.799988</td>\n",
              "      <td>361.981659</td>\n",
              "      <td>299.600006</td>\n",
              "      <td>667.345398</td>\n",
              "      <td>514.936157</td>\n",
              "    </tr>\n",
              "    <tr>\n",
              "      <th>2019-01-02</th>\n",
              "      <td>1157.373901</td>\n",
              "      <td>263.549988</td>\n",
              "      <td>362.827515</td>\n",
              "      <td>293.899994</td>\n",
              "      <td>663.134888</td>\n",
              "      <td>514.048828</td>\n",
              "    </tr>\n",
              "    <tr>\n",
              "      <th>2019-01-03</th>\n",
              "      <td>1152.937866</td>\n",
              "      <td>247.199997</td>\n",
              "      <td>361.484100</td>\n",
              "      <td>291.100006</td>\n",
              "      <td>657.079285</td>\n",
              "      <td>528.493652</td>\n",
              "    </tr>\n",
              "    <tr>\n",
              "      <th>2019-01-04</th>\n",
              "      <td>1139.629517</td>\n",
              "      <td>245.199997</td>\n",
              "      <td>363.424622</td>\n",
              "      <td>297.649994</td>\n",
              "      <td>660.864075</td>\n",
              "      <td>524.007385</td>\n",
              "    </tr>\n",
              "    <tr>\n",
              "      <th>2019-01-07</th>\n",
              "      <td>1110.271484</td>\n",
              "      <td>246.199997</td>\n",
              "      <td>365.912445</td>\n",
              "      <td>296.299988</td>\n",
              "      <td>662.236084</td>\n",
              "      <td>521.443726</td>\n",
              "    </tr>\n",
              "  </tbody>\n",
              "</table>\n",
              "</div>"
            ],
            "text/plain": [
              "              INDIGO.NS  JETAIRWAYS.NS  ...  TATACHEM.NS  TATACOMM.NS\n",
              "Date                                    ...                          \n",
              "2019-01-01  1161.959595     280.799988  ...   667.345398   514.936157\n",
              "2019-01-02  1157.373901     263.549988  ...   663.134888   514.048828\n",
              "2019-01-03  1152.937866     247.199997  ...   657.079285   528.493652\n",
              "2019-01-04  1139.629517     245.199997  ...   660.864075   524.007385\n",
              "2019-01-07  1110.271484     246.199997  ...   662.236084   521.443726\n",
              "\n",
              "[5 rows x 6 columns]"
            ]
          },
          "metadata": {
            "tags": []
          },
          "execution_count": 6
        }
      ]
    },
    {
      "cell_type": "code",
      "metadata": {
        "id": "dUJZJzg6fNln"
      },
      "source": [
        "##Check for Nan"
      ],
      "execution_count": null,
      "outputs": []
    },
    {
      "cell_type": "code",
      "metadata": {
        "colab": {
          "base_uri": "https://localhost:8080/"
        },
        "id": "gykGuKq0fe-C",
        "outputId": "9441bafd-0346-4bce-b126-aa4c727672f0"
      },
      "source": [
        "nullin_df = pd.DataFrame(df_stocks, columns=tickers)\n",
        "print(nullin_df.isnull().sum())\n",
        "##No Nan values (Conclusion)"
      ],
      "execution_count": null,
      "outputs": [
        {
          "output_type": "stream",
          "text": [
            "INDIGO.NS        0\n",
            "JETAIRWAYS.NS    0\n",
            "ICICIBANK.NS     0\n",
            "SBIN.NS          0\n",
            "TATACHEM.NS      0\n",
            "TATACOMM.NS      0\n",
            "dtype: int64\n"
          ],
          "name": "stdout"
        }
      ]
    },
    {
      "cell_type": "code",
      "metadata": {
        "id": "6M8qYpd8fhKE"
      },
      "source": [
        " #Calculate returns and covariance matrix\n",
        "returns = df_stocks.pct_change()\n",
        "cov_matrix_annual = returns.cov() * 242\n"
      ],
      "execution_count": null,
      "outputs": []
    },
    {
      "cell_type": "code",
      "metadata": {
        "id": "N-jXlK-Ffkro"
      },
      "source": [
        "##Calculate variance and returns for 1000 weights and store values in list\n",
        "portfolioSimpleAnnualReturn_list = []\n",
        "port_volatility_list = []\n",
        "val = [-1, 1]\n",
        "for i in range(1000):\n",
        "  weights = np.random.rand(6,1)\n",
        "  for w in weights:\n",
        "    w *= val[int(2*np.random.rand())]\n",
        "  weights /= weights.sum()\n",
        "  weights = weights.reshape(6)\n",
        "  port_variance = np.dot(weights.T, np.dot(cov_matrix_annual, weights))\n",
        "  port_volatility = np.sqrt(port_variance)\n",
        "  port_volatility_list.append(port_volatility)\n",
        "  portfolioSimpleAnnualReturn = sum(returns.mean()*weights) * 242\n",
        "  portfolioSimpleAnnualReturn_list.append(portfolioSimpleAnnualReturn)\n"
      ],
      "execution_count": null,
      "outputs": []
    },
    {
      "cell_type": "code",
      "metadata": {
        "colab": {
          "base_uri": "https://localhost:8080/",
          "height": 312
        },
        "id": "kJej_qm7f3m0",
        "outputId": "80ffe737-c75c-40b6-86f7-d84a9b0434c0"
      },
      "source": [
        " #Plot the graph\n",
        "fig, ax = plt.subplots()\n",
        "ax.scatter(port_volatility_list, portfolioSimpleAnnualReturn_list)\n",
        "ax.set(xlim=(0, 75), ylim=(-75, 75))\n",
        "ax.set(xlabel='Volatility-->', ylabel='Returns-->')\n",
        "ax.set_title('Returns vs Volatility')"
      ],
      "execution_count": null,
      "outputs": [
        {
          "output_type": "execute_result",
          "data": {
            "text/plain": [
              "Text(0.5, 1.0, 'Returns vs Volatility')"
            ]
          },
          "metadata": {
            "tags": []
          },
          "execution_count": 14
        },
        {
          "output_type": "display_data",
          "data": {
            "image/png": "[encoded data removed]",
            "text/plain": [
              "<Figure size 432x288 with 1 Axes>"
            ]
          },
          "metadata": {
            "tags": [],
            "needs_background": "light"
          }
        }
      ]
    },
    {
      "cell_type": "code",
      "metadata": {
        "id": "ohIfyQ3bf9s0"
      },
      "source": [
        " #Create Dataframe to calculate Sharpe Ratio\n",
        "df = pd.DataFrame()\n",
        "df[\"Portfolio Returns\"] = portfolioSimpleAnnualReturn_list\n",
        "df[\"Portfolio Volatility\"] = port_volatility_list\n"
      ],
      "execution_count": null,
      "outputs": []
    },
    {
      "cell_type": "code",
      "metadata": {
        "id": "SOfvbCEvgBDx"
      },
      "source": [
        "#Calculate sharpe ratio column\n",
        "df[\"Sharpe Ratio\"] = (df[\"Portfolio Returns\"] - 0.04)/(df[\"Portfolio Volatility\"])"
      ],
      "execution_count": null,
      "outputs": []
    },
    {
      "cell_type": "code",
      "metadata": {
        "colab": {
          "base_uri": "https://localhost:8080/"
        },
        "id": "76Ox1Om0gE76",
        "outputId": "1c7935e8-47c8-4b72-cef5-f1add0cc403a"
      },
      "source": [
        "#Find index of max sharpe ratio\n",
        "max_id = df['Sharpe Ratio'].idxmax(axis=1)\n",
        "max_id"
      ],
      "execution_count": null,
      "outputs": [
        {
          "output_type": "execute_result",
          "data": {
            "text/plain": [
              "930"
            ]
          },
          "metadata": {
            "tags": []
          },
          "execution_count": 17
        }
      ]
    },
    {
      "cell_type": "code",
      "metadata": {
        "colab": {
          "base_uri": "https://localhost:8080/",
          "height": 312
        },
        "id": "Ly3lmJt9gIBV",
        "outputId": "8aaba501-dbf7-4922-b98b-9c3be4a479fe"
      },
      "source": [
        "#Plot the graph (With location of optimal portfolio in red)\n",
        "fig, ax = plt.subplots()\n",
        "ax.scatter(port_volatility_list, portfolioSimpleAnnualReturn_list)\n",
        "ax.scatter(port_volatility_list[max_id], portfolioSimpleAnnualReturn_list[max_id], color='r')\n",
        "ax.set(xlim=(0, 75), ylim=(-75, 75))\n",
        "ax.annotate( \" Optimal Portfolio\",(port_volatility_list[max_id], portfolioSimpleAnnualReturn_list[max_id]) )\n",
        "ax.set(xlabel='Volatility-->', ylabel='Returns-->')\n",
        "ax.set_title('Returns vs Volatility')\n"
      ],
      "execution_count": null,
      "outputs": [
        {
          "output_type": "execute_result",
          "data": {
            "text/plain": [
              "Text(0.5, 1.0, 'Returns vs Volatility')"
            ]
          },
          "metadata": {
            "tags": []
          },
          "execution_count": 19
        },
        {
          "output_type": "display_data",
          "data": {
            "image/png": "[encoded data removed]",
            "text/plain": [
              "<Figure size 432x288 with 1 Axes>"
            ]
          },
          "metadata": {
            "tags": [],
            "needs_background": "light"
          }
        }
      ]
    },
    {
      "cell_type": "code",
      "metadata": {
        "id": "YwzSwSUPgLY3"
      },
      "source": [
        "#Get portfolio with max shape ratio\n",
        "ms = df.iloc[max_id]\n",
        "ms_vol = df[\"Portfolio Volatility\"].iloc[max_id]\n",
        "ms_ret = df[\"Portfolio Returns\"].iloc[max_id]"
      ],
      "execution_count": null,
      "outputs": []
    },
    {
      "cell_type": "code",
      "metadata": {
        "colab": {
          "base_uri": "https://localhost:8080/"
        },
        "id": "H26Fqe0igSXk",
        "outputId": "6bf5ef23-55e2-4e36-a739-9a3c3b89c38d"
      },
      "source": [
        "ms\n"
      ],
      "execution_count": null,
      "outputs": [
        {
          "output_type": "execute_result",
          "data": {
            "text/plain": [
              "Portfolio Returns       3.511776\n",
              "Portfolio Volatility    1.974924\n",
              "Sharpe Ratio            1.757929\n",
              "Name: 930, dtype: float64"
            ]
          },
          "metadata": {
            "tags": []
          },
          "execution_count": 21
        }
      ]
    },
    {
      "cell_type": "code",
      "metadata": {
        "id": "NV0sARppgWZB"
      },
      "source": [
        "# df\n",
        "num_days = 21\n",
        "simulation_values = []\n",
        "val = [-1, 1]\n",
        "for i in range(5000):\n",
        "  simulation_values.append(np.exp((0.4-0.5*ms_vol**2)*num_days/242 + ms_vol*np.sqrt(num_days/242)*norm.cdf(val[int(2*np.random.rand())]*np.random.rand())))"
      ],
      "execution_count": null,
      "outputs": []
    },
    {
      "cell_type": "code",
      "metadata": {
        "colab": {
          "base_uri": "https://localhost:8080/"
        },
        "id": "qtcyLMHqgeWs",
        "outputId": "f0781984-c6bf-4368-e2ce-02b1369beb7c"
      },
      "source": [
        "#Checking number of sumulation values when the is loss\n",
        "new_lis = []\n",
        "new_lis = [val < 1 for val in simulation_values]\n",
        "np.sum(new_lis)"
      ],
      "execution_count": null,
      "outputs": [
        {
          "output_type": "execute_result",
          "data": {
            "text/plain": [
              "680"
            ]
          },
          "metadata": {
            "tags": []
          },
          "execution_count": 24
        }
      ]
    },
    {
      "cell_type": "code",
      "metadata": {
        "id": "3LvhPrbOgsRJ"
      },
      "source": [
        " #Convert values to array\n",
        "simulation_values = np.array(simulation_values)"
      ],
      "execution_count": null,
      "outputs": []
    },
    {
      "cell_type": "code",
      "metadata": {
        "colab": {
          "base_uri": "https://localhost:8080/"
        },
        "id": "hovt4uZQgtV8",
        "outputId": "6bc06b54-41e2-4c4c-f760-4ec82fa1d372"
      },
      "source": [
        "#Find 5 and 1 percentile values\n",
        "VAR_95 = np.percentile(simulation_values, 5)\n",
        "VAR_99 = np.percentile(simulation_values, 1)\n",
        "\n",
        "#Find VAR_95 and VAR_99\n",
        "VAR_95 = (1 - VAR_95)*100\n",
        "VAR_99 = (1 - VAR_99)*100\n",
        "\n",
        "#Round the values\n",
        "VAR_95 = round(VAR_95)\n",
        "VAR_99 = round(VAR_99)\n",
        "\n",
        "#Print the values\n",
        "print(f\"Value of VAR(95) = {VAR_95}%\")\n",
        "print(f\"Value of VAR(99) = {VAR_99}%\")\n"
      ],
      "execution_count": null,
      "outputs": [
        {
          "output_type": "stream",
          "text": [
            "Value of VAR(95) = 3%\n",
            "Value of VAR(99) = 4%\n"
          ],
          "name": "stdout"
        }
      ]
    },
    {
      "cell_type": "code",
      "metadata": {
        "id": "o4CLju3-gyfI"
      },
      "source": [
        "# ##Calculate variance and returns for 1000 weights and store values in list\n",
        "# portfolioSimpleAnnualReturn_list = []\n",
        "# port_volatility_list = []\n",
        "# for i in range(1000):\n",
        "# weights = np.random.rand(6,1)\n",
        "# weights /= weights.sum()\n",
        "# weights = weights.reshape(6)\n",
        "# port_variance = np.dot(weights.T, np.dot(cov_matrix_annual, weights))\n",
        "# port_volatility = np.sqrt(port_variance)\n",
        "# port_volatility_list.append(port_volatility)\n",
        "# portfolioSimpleAnnualReturn = sum(returns.mean()*weights) * 242\n",
        "# portfolioSimpleAnnualReturn_list.append(portfolioSimpleAnnualReturn)\n",
        "# #Plot the graph\n",
        "# fig, ax = plt.subplots()\n",
        "# ax.scatter(port_volatility_list, portfolioSimpleAnnualReturn_list)\n",
        "# ax.set(xlabel='Volatility-->', ylabel='Returns-->')\n",
        "# ax.set_title('Returns vs Volatility')"
      ],
      "execution_count": null,
      "outputs": []
    },
    {
      "cell_type": "code",
      "metadata": {
        "id": "2B5hESBAg4Pq"
      },
      "source": [
        ""
      ],
      "execution_count": null,
      "outputs": []
    }
  ]
}